{
 "cells": [
  {
   "cell_type": "code",
   "execution_count": 2,
   "metadata": {},
   "outputs": [
    {
     "name": "stdout",
     "output_type": "stream",
     "text": [
      "Create_CSV_Combine.ipynb       augmentations.py  heatmap.py\r\n",
      "___deprecated___general_v2.py  compute_map.py    training.py\r\n",
      "\u001b[0m\u001b[01;34m__pycache__\u001b[0m/                   general.py        visualization.py\r\n"
     ]
    }
   ],
   "source": [
    "ls /tf/BrainTumor/utils"
   ]
  },
  {
   "cell_type": "code",
   "execution_count": 3,
   "metadata": {},
   "outputs": [],
   "source": [
    "cp /tf/BrainTumor/utils/general.py /tf/BrainTumor/namnt54/T4E_MICCAI_BrainTumor/utils"
   ]
  },
  {
   "cell_type": "code",
   "execution_count": 2,
   "metadata": {},
   "outputs": [
    {
     "name": "stdout",
     "output_type": "stream",
     "text": [
      "  1%|▎                                          | 5/677 [00:04<09:40,  1.16it/s]\n",
      "  1%|▎                                          | 5/677 [00:06<15:10,  1.35s/it]\n",
      "  1%|▎                                          | 5/677 [00:05<11:19,  1.01s/it]\n",
      "  1%|▎                                          | 5/677 [00:04<09:15,  1.21it/s]\n"
     ]
    }
   ],
   "source": [
    "!python prepare_segmentation_data.py"
   ]
  },
  {
   "cell_type": "code",
   "execution_count": 1,
   "metadata": {},
   "outputs": [],
   "source": [
    "rm -rf data/segment_data/"
   ]
  },
  {
   "cell_type": "code",
   "execution_count": 4,
   "metadata": {},
   "outputs": [],
   "source": [
    "cp /tf/BrainTumor/namnt54/pretrained_models/unet_pp_densenet121_2channels_out.pth /tf/BrainTumor/namnt54/T4E_MICCAI_BrainTumor/pretrained_models/"
   ]
  },
  {
   "cell_type": "code",
   "execution_count": null,
   "metadata": {},
   "outputs": [],
   "source": [
    "### arguemt parser define gpu, batch size, ..."
   ]
  },
  {
   "cell_type": "code",
   "execution_count": null,
   "metadata": {
    "scrolled": true
   },
   "outputs": [
    {
     "name": "stdout",
     "output_type": "stream",
     "text": [
      "2021-10-19 03:38:20.832400: I tensorflow/stream_executor/platform/default/dso_loader.cc:49] Successfully opened dynamic library libcudart.so.11.0\n",
      "######################### Candidate: densenet121 ############################\n",
      "\n",
      "\n",
      "================= Fold 0 ==================\n",
      "Number of training images: 66572. Number of valid images: 16632\n",
      "Load pretrained: pretrained_models/unet_pp_densenet121_2channels_out.pth\n",
      " -------- Start warm up process ----------\n",
      "Freeze encoder\n",
      "\n",
      "Start ep: 1\n",
      "  3%| | 15/521 [00:21<10:01,  1.19s/it, Epoch=1, IOU_Train=0.106, LR=0.0001, Los"
     ]
    }
   ],
   "source": [
    "!python train_segmentation.py"
   ]
  },
  {
   "cell_type": "code",
   "execution_count": null,
   "metadata": {},
   "outputs": [],
   "source": []
  },
  {
   "cell_type": "code",
   "execution_count": 1,
   "metadata": {},
   "outputs": [
    {
     "name": "stdout",
     "output_type": "stream",
     "text": [
      "\n",
      "3it [00:25,  8.45s/it]\n"
     ]
    }
   ],
   "source": [
    "!python prepare_classification_data.py --gpu 0 --batch_size 64"
   ]
  },
  {
   "cell_type": "code",
   "execution_count": 1,
   "metadata": {},
   "outputs": [],
   "source": [
    "# cp '/tf/BrainTumor/namnt54/models/densenet121_2d_segment_v3.1_fix_pretrain_non_negative/Fold0_densenet121_2d_segment_v3.1_fix_pretrain_non_negative_ValidLoss0.077_ValidIOU0.856_Ep182.pth' /tf/BrainTumor/namnt54/T4E_MICCAI_BrainTumor/models/densenet121_2d_segment/"
   ]
  },
  {
   "cell_type": "code",
   "execution_count": 1,
   "metadata": {
    "scrolled": true
   },
   "outputs": [
    {
     "name": "stdout",
     "output_type": "stream",
     "text": [
      "Tue Oct 19 19:27:35 2021       \n",
      "+-----------------------------------------------------------------------------+\n",
      "| NVIDIA-SMI 418.67       Driver Version: 418.67       CUDA Version: 11.0     |\n",
      "|-------------------------------+----------------------+----------------------+\n",
      "| GPU  Name        Persistence-M| Bus-Id        Disp.A | Volatile Uncorr. ECC |\n",
      "| Fan  Temp  Perf  Pwr:Usage/Cap|         Memory-Usage | GPU-Util  Compute M. |\n",
      "|===============================+======================+======================|\n",
      "|   0  Tesla V100-SXM2...  On   | 00000000:06:00.0 Off |                    0 |\n",
      "| N/A   29C    P0    54W / 300W |   4041MiB / 32480MiB |      0%      Default |\n",
      "+-------------------------------+----------------------+----------------------+\n",
      "|   1  Tesla V100-SXM2...  On   | 00000000:07:00.0 Off |                    0 |\n",
      "| N/A   30C    P0    55W / 300W |   4950MiB / 32480MiB |      0%      Default |\n",
      "+-------------------------------+----------------------+----------------------+\n",
      "|   2  Tesla V100-SXM2...  On   | 00000000:0A:00.0 Off |                    0 |\n",
      "| N/A   28C    P0    40W / 300W |     13MiB / 32480MiB |      0%      Default |\n",
      "+-------------------------------+----------------------+----------------------+\n",
      "|   3  Tesla V100-SXM2...  On   | 00000000:0B:00.0 Off |                    0 |\n",
      "| N/A   26C    P0    40W / 300W |     11MiB / 32480MiB |      0%      Default |\n",
      "+-------------------------------+----------------------+----------------------+\n",
      "|   4  Tesla V100-SXM2...  On   | 00000000:85:00.0 Off |                    0 |\n",
      "| N/A   48C    P0   268W / 300W |  28120MiB / 32480MiB |     97%      Default |\n",
      "+-------------------------------+----------------------+----------------------+\n",
      "|   5  Tesla V100-SXM2...  On   | 00000000:86:00.0 Off |                    0 |\n",
      "| N/A   47C    P0    71W / 300W |  30364MiB / 32480MiB |    100%      Default |\n",
      "+-------------------------------+----------------------+----------------------+\n",
      "|   6  Tesla V100-SXM2...  On   | 00000000:89:00.0 Off |                    0 |\n",
      "| N/A   49C    P0    72W / 300W |  30142MiB / 32480MiB |    100%      Default |\n",
      "+-------------------------------+----------------------+----------------------+\n",
      "|   7  Tesla V100-SXM2...  On   | 00000000:8A:00.0 Off |                    0 |\n",
      "| N/A   43C    P0   177W / 300W |  29398MiB / 32480MiB |     98%      Default |\n",
      "+-------------------------------+----------------------+----------------------+\n",
      "                                                                               \n",
      "+-----------------------------------------------------------------------------+\n",
      "| Processes:                                                       GPU Memory |\n",
      "|  GPU       PID   Type   Process name                             Usage      |\n",
      "|=============================================================================|\n",
      "+-----------------------------------------------------------------------------+\n"
     ]
    }
   ],
   "source": [
    "!nvidia-smi"
   ]
  },
  {
   "cell_type": "code",
   "execution_count": 2,
   "metadata": {},
   "outputs": [],
   "source": [
    "cp /tf/BrainTumor/data/train_stratifiedgroupkfold.csv data/"
   ]
  },
  {
   "cell_type": "code",
   "execution_count": 3,
   "metadata": {},
   "outputs": [],
   "source": [
    "cp /tf/SIIM/namnt54/pretrained_models/eca_nfnet_l0.pth pretrained_models"
   ]
  },
  {
   "cell_type": "code",
   "execution_count": null,
   "metadata": {},
   "outputs": [],
   "source": []
  },
  {
   "cell_type": "code",
   "execution_count": null,
   "metadata": {},
   "outputs": [
    {
     "name": "stdout",
     "output_type": "stream",
     "text": [
      "2021-10-19 20:23:27.656811: I tensorflow/stream_executor/platform/default/dso_loader.cc:49] Successfully opened dynamic library libcudart.so.11.0\n",
      "######################### Candidate: eca_nfnet_l0 ############################\n",
      "\n",
      "\n",
      "================= Fold 0. MRI: FLAIR ==================\n",
      "Number of training samples: 1540. Number of valid samples: 459\n",
      "\n",
      " -------- Start warm up process ----------\n",
      "Freeze backbone\n",
      "\n",
      "Start ep: 1\n",
      "  9%|▌     | 33/385 [01:29<05:03,  1.16it/s, Epoch=1, LR=1e-6, Loss_Train=0.681]"
     ]
    }
   ],
   "source": [
    "!python train_classification.py --gpu 0 --batch_size 4"
   ]
  },
  {
   "cell_type": "code",
   "execution_count": null,
   "metadata": {},
   "outputs": [],
   "source": []
  },
  {
   "cell_type": "code",
   "execution_count": 2,
   "metadata": {},
   "outputs": [],
   "source": [
    "rm -rf data/classification_data/"
   ]
  },
  {
   "cell_type": "code",
   "execution_count": 3,
   "metadata": {},
   "outputs": [],
   "source": [
    "rm -rf data/segment_data/"
   ]
  },
  {
   "cell_type": "code",
   "execution_count": null,
   "metadata": {},
   "outputs": [],
   "source": [
    "rm -rf pre"
   ]
  }
 ],
 "metadata": {
  "kernelspec": {
   "display_name": "Python 3",
   "language": "python",
   "name": "python3"
  },
  "language_info": {
   "codemirror_mode": {
    "name": "ipython",
    "version": 3
   },
   "file_extension": ".py",
   "mimetype": "text/x-python",
   "name": "python",
   "nbconvert_exporter": "python",
   "pygments_lexer": "ipython3",
   "version": "3.6.9"
  }
 },
 "nbformat": 4,
 "nbformat_minor": 2
}
